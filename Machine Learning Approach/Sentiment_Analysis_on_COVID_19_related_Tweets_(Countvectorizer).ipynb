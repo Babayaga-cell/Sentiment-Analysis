{
  "nbformat": 4,
  "nbformat_minor": 0,
  "metadata": {
    "kernelspec": {
      "display_name": "Python 3",
      "language": "python",
      "name": "python3"
    },
    "language_info": {
      "codemirror_mode": {
        "name": "ipython",
        "version": 3
      },
      "file_extension": ".py",
      "mimetype": "text/x-python",
      "name": "python",
      "nbconvert_exporter": "python",
      "pygments_lexer": "ipython3",
      "version": "3.7.6"
    },
    "colab": {
      "name": "Sentiment Analysis on COVID-19 related Tweets (Countvectorizer).ipynb",
      "provenance": [],
      "collapsed_sections": []
    }
  },
  "cells": [
    {
      "cell_type": "markdown",
      "metadata": {
        "id": "k4NidcP9rbir"
      },
      "source": [
        "# **Sentiment Analysis on COVID-19 related Tweets (Machine Learning: Countvectorizer)**\n"
      ]
    },
    {
      "cell_type": "code",
      "metadata": {
        "id": "YB1pTYmJrnbg",
        "colab": {
          "base_uri": "https://localhost:8080/"
        },
        "outputId": "e2822992-5a7e-4f57-aa44-a8a98ccb69d8"
      },
      "source": [
        "# We have to mount\n",
        "from google.colab import drive\n",
        "drive.mount('/content/gdrive')"
      ],
      "execution_count": null,
      "outputs": [
        {
          "output_type": "stream",
          "name": "stdout",
          "text": [
            "Drive already mounted at /content/gdrive; to attempt to forcibly remount, call drive.mount(\"/content/gdrive\", force_remount=True).\n"
          ]
        }
      ]
    },
    {
      "cell_type": "code",
      "metadata": {
        "id": "ODYd8U4Erbit",
        "colab": {
          "base_uri": "https://localhost:8080/",
          "height": 17
        },
        "outputId": "77ff9105-b82a-44a8-882e-d088263c8cc2"
      },
      "source": [
        "import base64\n",
        "import numpy as np \n",
        "import pandas as pd\n",
        "\n",
        "\n",
        "#Plotly imports\n",
        "import plotly.offline as py\n",
        "py.init_notebook_mode(connected=True)\n",
        "import plotly.graph_objs as go\n",
        "import plotly.tools as tls\n",
        "import re\n",
        "import nltk\n",
        "import string\n",
        "\n",
        "\n",
        "\n",
        "# Other imports\n",
        "from collections import Counter\n",
        "from sklearn.feature_extraction.text import TfidfVectorizer, CountVectorizer\n",
        "from sklearn.decomposition import NMF, LatentDirichletAllocation\n",
        "from matplotlib import pyplot as plt\n",
        "%matplotlib inline\n",
        "%matplotlib notebook"
      ],
      "execution_count": null,
      "outputs": [
        {
          "output_type": "display_data",
          "data": {
            "text/html": [
              "        <script type=\"text/javascript\">\n",
              "        window.PlotlyConfig = {MathJaxConfig: 'local'};\n",
              "        if (window.MathJax) {MathJax.Hub.Config({SVG: {font: \"STIX-Web\"}});}\n",
              "        if (typeof require !== 'undefined') {\n",
              "        require.undef(\"plotly\");\n",
              "        requirejs.config({\n",
              "            paths: {\n",
              "                'plotly': ['https://cdn.plot.ly/plotly-latest.min']\n",
              "            }\n",
              "        });\n",
              "        require(['plotly'], function(Plotly) {\n",
              "            window._Plotly = Plotly;\n",
              "        });\n",
              "        }\n",
              "        </script>\n",
              "        "
            ]
          },
          "metadata": {}
        }
      ]
    },
    {
      "cell_type": "markdown",
      "metadata": {
        "id": "0OTNrogRrbiv"
      },
      "source": [
        "# Reading CSV File\n"
      ]
    },
    {
      "cell_type": "code",
      "metadata": {
        "id": "PWTqf9jWrbiv",
        "colab": {
          "base_uri": "https://localhost:8080/",
          "height": 513
        },
        "outputId": "f51cca27-a3c0-4b11-d397-855aafcc1295"
      },
      "source": [
        "#TextBlob\n",
        "#train=pd.read_csv('/content/gdrive/MyDrive/Colab Notebooks/Text_Blob_PolarityAnalysis.csv')\n",
        "#Original 45,007\n",
        "#train=pd.read_csv('/content/gdrive/MyDrive/Colab Notebooks/COVID-19MasterFinalDataset.csv')\n",
        "#36k Tweets\n",
        "#train=pd.read_csv('/content/gdrive/MyDrive/Colab Notebooks/36kCleanedCOVID-19MasterFinalDataset.csv')\n",
        "#36k Tweets\n",
        "train=pd.read_csv('/content/gdrive/MyDrive/Colab Notebooks/SentimentAnalysisCOVID-19MasterFinalDataset.csv')\n",
        "train.head(10)"
      ],
      "execution_count": null,
      "outputs": [
        {
          "output_type": "execute_result",
          "data": {
            "text/html": [
              "<div>\n",
              "<style scoped>\n",
              "    .dataframe tbody tr th:only-of-type {\n",
              "        vertical-align: middle;\n",
              "    }\n",
              "\n",
              "    .dataframe tbody tr th {\n",
              "        vertical-align: top;\n",
              "    }\n",
              "\n",
              "    .dataframe thead th {\n",
              "        text-align: right;\n",
              "    }\n",
              "</style>\n",
              "<table border=\"1\" class=\"dataframe\">\n",
              "  <thead>\n",
              "    <tr style=\"text-align: right;\">\n",
              "      <th></th>\n",
              "      <th>Date</th>\n",
              "      <th>Tweets</th>\n",
              "      <th>Translated</th>\n",
              "      <th>Polarity</th>\n",
              "      <th>Sentiment</th>\n",
              "      <th>length</th>\n",
              "    </tr>\n",
              "  </thead>\n",
              "  <tbody>\n",
              "    <tr>\n",
              "      <th>0</th>\n",
              "      <td>Mar</td>\n",
              "      <td>Me to COVID-19:  pic.twitter.com/OLX9LTjTsW</td>\n",
              "      <td>me to covid</td>\n",
              "      <td>0.000000</td>\n",
              "      <td>Neutral</td>\n",
              "      <td>11</td>\n",
              "    </tr>\n",
              "    <tr>\n",
              "      <th>1</th>\n",
              "      <td>May</td>\n",
              "      <td>So many realizations during ECQ because of COV...</td>\n",
              "      <td>so many realizations during ecq because of cov...</td>\n",
              "      <td>0.300000</td>\n",
              "      <td>Positive</td>\n",
              "      <td>153</td>\n",
              "    </tr>\n",
              "    <tr>\n",
              "      <th>2</th>\n",
              "      <td>Mar</td>\n",
              "      <td>Murag sure pko na magka covid kesa magbalik mi...</td>\n",
              "      <td>it's like a covid covid kesa back to cejay hah...</td>\n",
              "      <td>0.100000</td>\n",
              "      <td>Positive</td>\n",
              "      <td>51</td>\n",
              "    </tr>\n",
              "    <tr>\n",
              "      <th>3</th>\n",
              "      <td>Apr</td>\n",
              "      <td>While we are all fighting against COVID-19, me...</td>\n",
              "      <td>while we are all fighting against covid meanwh...</td>\n",
              "      <td>0.000000</td>\n",
              "      <td>Neutral</td>\n",
              "      <td>112</td>\n",
              "    </tr>\n",
              "    <tr>\n",
              "      <th>4</th>\n",
              "      <td>Mar</td>\n",
              "      <td>Taong bahay, dahil sa covid-19😴</td>\n",
              "      <td>person house because of covid</td>\n",
              "      <td>0.000000</td>\n",
              "      <td>Neutral</td>\n",
              "      <td>29</td>\n",
              "    </tr>\n",
              "    <tr>\n",
              "      <th>5</th>\n",
              "      <td>Mar</td>\n",
              "      <td>mamamatay ata ako sa stress, hindi sa covid.</td>\n",
              "      <td>I will die in stress not in covid</td>\n",
              "      <td>0.000000</td>\n",
              "      <td>Neutral</td>\n",
              "      <td>33</td>\n",
              "    </tr>\n",
              "    <tr>\n",
              "      <th>6</th>\n",
              "      <td>Jun</td>\n",
              "      <td>I want to join kaso may pangamba pa rin ng COV...</td>\n",
              "      <td>I Want To Join Case There is still a covid</td>\n",
              "      <td>0.000000</td>\n",
              "      <td>Neutral</td>\n",
              "      <td>42</td>\n",
              "    </tr>\n",
              "    <tr>\n",
              "      <th>7</th>\n",
              "      <td>Mar</td>\n",
              "      <td>So gi confiscate ang akuang alcohol na 75mL, u...</td>\n",
              "      <td>So confiscate the Akuang Alcohol ML then the w...</td>\n",
              "      <td>0.000000</td>\n",
              "      <td>Neutral</td>\n",
              "      <td>62</td>\n",
              "    </tr>\n",
              "    <tr>\n",
              "      <th>8</th>\n",
              "      <td>Apr</td>\n",
              "      <td>I choose you to be a positive from covid 19 ch...</td>\n",
              "      <td>i choose you to be a positive from covid  char...</td>\n",
              "      <td>0.227273</td>\n",
              "      <td>Positive</td>\n",
              "      <td>53</td>\n",
              "    </tr>\n",
              "    <tr>\n",
              "      <th>9</th>\n",
              "      <td>Apr</td>\n",
              "      <td>Jgh, then ligo. Grabe covid stop na. 🤷🏻‍♂️🙏</td>\n",
              "      <td>jgh then ligo grabe covid stop na 🤷</td>\n",
              "      <td>0.000000</td>\n",
              "      <td>Neutral</td>\n",
              "      <td>35</td>\n",
              "    </tr>\n",
              "  </tbody>\n",
              "</table>\n",
              "</div>"
            ],
            "text/plain": [
              "  Date                                             Tweets  ... Sentiment  length\n",
              "0  Mar        Me to COVID-19:  pic.twitter.com/OLX9LTjTsW  ...   Neutral      11\n",
              "1  May  So many realizations during ECQ because of COV...  ...  Positive     153\n",
              "2  Mar  Murag sure pko na magka covid kesa magbalik mi...  ...  Positive      51\n",
              "3  Apr  While we are all fighting against COVID-19, me...  ...   Neutral     112\n",
              "4  Mar                    Taong bahay, dahil sa covid-19😴  ...   Neutral      29\n",
              "5  Mar       mamamatay ata ako sa stress, hindi sa covid.  ...   Neutral      33\n",
              "6  Jun  I want to join kaso may pangamba pa rin ng COV...  ...   Neutral      42\n",
              "7  Mar  So gi confiscate ang akuang alcohol na 75mL, u...  ...   Neutral      62\n",
              "8  Apr  I choose you to be a positive from covid 19 ch...  ...  Positive      53\n",
              "9  Apr        Jgh, then ligo. Grabe covid stop na. 🤷🏻‍♂️🙏  ...   Neutral      35\n",
              "\n",
              "[10 rows x 6 columns]"
            ]
          },
          "metadata": {},
          "execution_count": 19
        }
      ]
    },
    {
      "cell_type": "code",
      "metadata": {
        "id": "4TvBnXpxrbiw",
        "colab": {
          "base_uri": "https://localhost:8080/"
        },
        "outputId": "a3c11dd4-33fa-474e-c3d8-0960feabe3c8"
      },
      "source": [
        "train.shape"
      ],
      "execution_count": null,
      "outputs": [
        {
          "output_type": "execute_result",
          "data": {
            "text/plain": [
              "(44709, 6)"
            ]
          },
          "metadata": {},
          "execution_count": 20
        }
      ]
    },
    {
      "cell_type": "markdown",
      "metadata": {
        "id": "NZGEzAmXrbix"
      },
      "source": [
        "# **Choose Translated Tweet and its Polarity**\n",
        "\n"
      ]
    },
    {
      "cell_type": "code",
      "metadata": {
        "id": "HA4i4HNYrbiw",
        "colab": {
          "base_uri": "https://localhost:8080/",
          "height": 351
        },
        "outputId": "1e24bab9-73e4-4079-8561-5e13e200e1b8"
      },
      "source": [
        "new_data = train[['Translated','Sentiment']]\n",
        "#new_data = train[['Translated','Analysis']]\n",
        "new_data.head(10)"
      ],
      "execution_count": null,
      "outputs": [
        {
          "output_type": "execute_result",
          "data": {
            "text/html": [
              "<div>\n",
              "<style scoped>\n",
              "    .dataframe tbody tr th:only-of-type {\n",
              "        vertical-align: middle;\n",
              "    }\n",
              "\n",
              "    .dataframe tbody tr th {\n",
              "        vertical-align: top;\n",
              "    }\n",
              "\n",
              "    .dataframe thead th {\n",
              "        text-align: right;\n",
              "    }\n",
              "</style>\n",
              "<table border=\"1\" class=\"dataframe\">\n",
              "  <thead>\n",
              "    <tr style=\"text-align: right;\">\n",
              "      <th></th>\n",
              "      <th>Translated</th>\n",
              "      <th>Sentiment</th>\n",
              "    </tr>\n",
              "  </thead>\n",
              "  <tbody>\n",
              "    <tr>\n",
              "      <th>0</th>\n",
              "      <td>me to covid</td>\n",
              "      <td>Neutral</td>\n",
              "    </tr>\n",
              "    <tr>\n",
              "      <th>1</th>\n",
              "      <td>so many realizations during ecq because of cov...</td>\n",
              "      <td>Positive</td>\n",
              "    </tr>\n",
              "    <tr>\n",
              "      <th>2</th>\n",
              "      <td>it's like a covid covid kesa back to cejay hah...</td>\n",
              "      <td>Positive</td>\n",
              "    </tr>\n",
              "    <tr>\n",
              "      <th>3</th>\n",
              "      <td>while we are all fighting against covid meanwh...</td>\n",
              "      <td>Neutral</td>\n",
              "    </tr>\n",
              "    <tr>\n",
              "      <th>4</th>\n",
              "      <td>person house because of covid</td>\n",
              "      <td>Neutral</td>\n",
              "    </tr>\n",
              "    <tr>\n",
              "      <th>5</th>\n",
              "      <td>I will die in stress not in covid</td>\n",
              "      <td>Neutral</td>\n",
              "    </tr>\n",
              "    <tr>\n",
              "      <th>6</th>\n",
              "      <td>I Want To Join Case There is still a covid</td>\n",
              "      <td>Neutral</td>\n",
              "    </tr>\n",
              "    <tr>\n",
              "      <th>7</th>\n",
              "      <td>So confiscate the Akuang Alcohol ML then the w...</td>\n",
              "      <td>Neutral</td>\n",
              "    </tr>\n",
              "    <tr>\n",
              "      <th>8</th>\n",
              "      <td>i choose you to be a positive from covid  char...</td>\n",
              "      <td>Positive</td>\n",
              "    </tr>\n",
              "    <tr>\n",
              "      <th>9</th>\n",
              "      <td>jgh then ligo grabe covid stop na 🤷</td>\n",
              "      <td>Neutral</td>\n",
              "    </tr>\n",
              "  </tbody>\n",
              "</table>\n",
              "</div>"
            ],
            "text/plain": [
              "                                          Translated Sentiment\n",
              "0                                        me to covid   Neutral\n",
              "1  so many realizations during ecq because of cov...  Positive\n",
              "2  it's like a covid covid kesa back to cejay hah...  Positive\n",
              "3  while we are all fighting against covid meanwh...   Neutral\n",
              "4                      person house because of covid   Neutral\n",
              "5                  I will die in stress not in covid   Neutral\n",
              "6         I Want To Join Case There is still a covid   Neutral\n",
              "7  So confiscate the Akuang Alcohol ML then the w...   Neutral\n",
              "8  i choose you to be a positive from covid  char...  Positive\n",
              "9                jgh then ligo grabe covid stop na 🤷   Neutral"
            ]
          },
          "metadata": {},
          "execution_count": 21
        }
      ]
    },
    {
      "cell_type": "code",
      "metadata": {
        "id": "IS0NGlEHhp25",
        "colab": {
          "base_uri": "https://localhost:8080/",
          "height": 350
        },
        "outputId": "7f21cbf2-015f-45db-8100-304afc8732a3"
      },
      "source": [
        "def convert_label(sentiment):\n",
        " \n",
        "  for i in range(len(new_data)):\n",
        "    if sentiment == \"Negative\":\n",
        "      return -1;\n",
        "    elif sentiment == \"Neutral\":\n",
        "      return 0;\n",
        "    elif sentiment == \"Positive\":\n",
        "      return 1;\n",
        "\n",
        "new_data[\"Analysis\"] = new_data[\"Sentiment\"].apply(convert_label)  \n",
        "new_data.head()\n"
      ],
      "execution_count": null,
      "outputs": [
        {
          "output_type": "stream",
          "name": "stderr",
          "text": [
            "/usr/local/lib/python3.7/dist-packages/ipykernel_launcher.py:11: SettingWithCopyWarning:\n",
            "\n",
            "\n",
            "A value is trying to be set on a copy of a slice from a DataFrame.\n",
            "Try using .loc[row_indexer,col_indexer] = value instead\n",
            "\n",
            "See the caveats in the documentation: https://pandas.pydata.org/pandas-docs/stable/user_guide/indexing.html#returning-a-view-versus-a-copy\n",
            "\n"
          ]
        },
        {
          "output_type": "execute_result",
          "data": {
            "text/html": [
              "<div>\n",
              "<style scoped>\n",
              "    .dataframe tbody tr th:only-of-type {\n",
              "        vertical-align: middle;\n",
              "    }\n",
              "\n",
              "    .dataframe tbody tr th {\n",
              "        vertical-align: top;\n",
              "    }\n",
              "\n",
              "    .dataframe thead th {\n",
              "        text-align: right;\n",
              "    }\n",
              "</style>\n",
              "<table border=\"1\" class=\"dataframe\">\n",
              "  <thead>\n",
              "    <tr style=\"text-align: right;\">\n",
              "      <th></th>\n",
              "      <th>Translated</th>\n",
              "      <th>Sentiment</th>\n",
              "      <th>Analysis</th>\n",
              "    </tr>\n",
              "  </thead>\n",
              "  <tbody>\n",
              "    <tr>\n",
              "      <th>0</th>\n",
              "      <td>me to covid</td>\n",
              "      <td>Neutral</td>\n",
              "      <td>0</td>\n",
              "    </tr>\n",
              "    <tr>\n",
              "      <th>1</th>\n",
              "      <td>so many realizations during ecq because of cov...</td>\n",
              "      <td>Positive</td>\n",
              "      <td>1</td>\n",
              "    </tr>\n",
              "    <tr>\n",
              "      <th>2</th>\n",
              "      <td>it's like a covid covid kesa back to cejay hah...</td>\n",
              "      <td>Positive</td>\n",
              "      <td>1</td>\n",
              "    </tr>\n",
              "    <tr>\n",
              "      <th>3</th>\n",
              "      <td>while we are all fighting against covid meanwh...</td>\n",
              "      <td>Neutral</td>\n",
              "      <td>0</td>\n",
              "    </tr>\n",
              "    <tr>\n",
              "      <th>4</th>\n",
              "      <td>person house because of covid</td>\n",
              "      <td>Neutral</td>\n",
              "      <td>0</td>\n",
              "    </tr>\n",
              "  </tbody>\n",
              "</table>\n",
              "</div>"
            ],
            "text/plain": [
              "                                          Translated Sentiment  Analysis\n",
              "0                                        me to covid   Neutral         0\n",
              "1  so many realizations during ecq because of cov...  Positive         1\n",
              "2  it's like a covid covid kesa back to cejay hah...  Positive         1\n",
              "3  while we are all fighting against covid meanwh...   Neutral         0\n",
              "4                      person house because of covid   Neutral         0"
            ]
          },
          "metadata": {},
          "execution_count": 22
        }
      ]
    },
    {
      "cell_type": "code",
      "metadata": {
        "id": "e9_RSFsxoe_t"
      },
      "source": [
        "X = new_data['Translated'] \n",
        "y = new_data['Analysis']"
      ],
      "execution_count": null,
      "outputs": []
    },
    {
      "cell_type": "code",
      "metadata": {
        "id": "acHw7tlHoj0d",
        "colab": {
          "base_uri": "https://localhost:8080/"
        },
        "outputId": "8ec16fb2-d448-471a-eb77-a25bf47aeafd"
      },
      "source": [
        "new_data.shape"
      ],
      "execution_count": null,
      "outputs": [
        {
          "output_type": "execute_result",
          "data": {
            "text/plain": [
              "(44709, 3)"
            ]
          },
          "metadata": {},
          "execution_count": 24
        }
      ]
    },
    {
      "cell_type": "markdown",
      "metadata": {
        "id": "pto3A9qOOLU1"
      },
      "source": [
        "# **Data Cleaning**"
      ]
    },
    {
      "cell_type": "markdown",
      "metadata": {
        "id": "9X2i4-9wrbiy"
      },
      "source": [
        "# **Data Definition**\n"
      ]
    },
    {
      "cell_type": "code",
      "metadata": {
        "id": "to7ILHr8rbiy",
        "colab": {
          "base_uri": "https://localhost:8080/"
        },
        "outputId": "2594b05c-f3d3-48e8-d10a-2daf4cda5a23"
      },
      "source": [
        "print('Dataset size:',new_data.shape)\n",
        "print('Columns are:',new_data.columns)\n",
        "new_data.info()"
      ],
      "execution_count": null,
      "outputs": [
        {
          "output_type": "stream",
          "name": "stdout",
          "text": [
            "Dataset size: (44709, 3)\n",
            "Columns are: Index(['Translated', 'Sentiment', 'Analysis'], dtype='object')\n",
            "<class 'pandas.core.frame.DataFrame'>\n",
            "RangeIndex: 44709 entries, 0 to 44708\n",
            "Data columns (total 3 columns):\n",
            " #   Column      Non-Null Count  Dtype \n",
            "---  ------      --------------  ----- \n",
            " 0   Translated  44709 non-null  object\n",
            " 1   Sentiment   44709 non-null  object\n",
            " 2   Analysis    44709 non-null  int64 \n",
            "dtypes: int64(1), object(2)\n",
            "memory usage: 1.0+ MB\n"
          ]
        }
      ]
    },
    {
      "cell_type": "markdown",
      "metadata": {
        "id": "ZrI5eRRFrbi5"
      },
      "source": [
        "#**Train Test Split**"
      ]
    },
    {
      "cell_type": "code",
      "metadata": {
        "id": "8GCdPFlWP5xp"
      },
      "source": [
        "from sklearn.model_selection import train_test_split\n",
        "from sklearn.metrics import classification_report, confusion_matrix, accuracy_score  \n",
        "X_train, X_test, y_train, y_test = train_test_split(X, y, test_size=0.20, random_state=0)"
      ],
      "execution_count": null,
      "outputs": []
    },
    {
      "cell_type": "markdown",
      "metadata": {
        "id": "-S-jMIb3rbi3"
      },
      "source": [
        "# **Countvectorizer**"
      ]
    },
    {
      "cell_type": "code",
      "metadata": {
        "id": "cGppmQAeOfMV"
      },
      "source": [
        "from sklearn.feature_extraction.text import CountVectorizer\n",
        "\n",
        "count_vect = CountVectorizer()\n",
        "count_vect_train = count_vect.fit_transform(X_train)\n",
        "count_vect_test = count_vect.transform(X_test)"
      ],
      "execution_count": null,
      "outputs": []
    },
    {
      "cell_type": "markdown",
      "metadata": {
        "id": "FZXu7gqnQDmi"
      },
      "source": [
        "# **Random Forest**"
      ]
    },
    {
      "cell_type": "code",
      "metadata": {
        "id": "YWVRnZF_rbi-",
        "colab": {
          "base_uri": "https://localhost:8080/"
        },
        "outputId": "7c10d050-3a3b-401a-f6f7-596655938e99"
      },
      "source": [
        "from sklearn.ensemble import RandomForestClassifier\n",
        "\n",
        "random_forest = RandomForestClassifier(n_estimators=50, random_state=50)  \n",
        "random_forest.fit(count_vect_train, y_train)\n",
        "\n",
        "predictions_randomforest = random_forest.predict(count_vect_test)\n",
        "print(confusion_matrix(y_test,predictions_randomforest ))\n",
        "print(classification_report(y_test,predictions_randomforest))\n",
        "print('Accuracy Score: ',accuracy_score(y_test, predictions_randomforest))\n",
        "print('Train Accuracy Score: ',random_forest.score(count_vect_train,y_train))\n",
        "print('Test Accuracy Score: ',random_forest.score(count_vect_test,y_test))"
      ],
      "execution_count": null,
      "outputs": [
        {
          "output_type": "stream",
          "name": "stdout",
          "text": [
            "[[ 932  262  373]\n",
            " [   7 3407  146]\n",
            " [  38  229 3548]]\n",
            "              precision    recall  f1-score   support\n",
            "\n",
            "          -1       0.95      0.59      0.73      1567\n",
            "           0       0.87      0.96      0.91      3560\n",
            "           1       0.87      0.93      0.90      3815\n",
            "\n",
            "    accuracy                           0.88      8942\n",
            "   macro avg       0.90      0.83      0.85      8942\n",
            "weighted avg       0.89      0.88      0.88      8942\n",
            "\n",
            "Accuracy Score:  0.8820174457615746\n",
            "Train Accuracy Score:  0.9999440825341795\n",
            "Test Accuracy Score:  0.8820174457615746\n"
          ]
        }
      ]
    },
    {
      "cell_type": "markdown",
      "metadata": {
        "id": "IqV20MI6UZmK"
      },
      "source": [
        "# **Multinomial Naive Bayes**"
      ]
    },
    {
      "cell_type": "code",
      "metadata": {
        "id": "TJMHWE28RPXw",
        "colab": {
          "base_uri": "https://localhost:8080/"
        },
        "outputId": "aa39996d-de65-4d7c-c4a6-22408f6848e5"
      },
      "source": [
        "from sklearn.naive_bayes import MultinomialNB\n",
        "\n",
        "mnb= MultinomialNB(alpha = 0.003).fit(count_vect_train, y_train)\n",
        "\n",
        "predictions_mnb = mnb.predict(count_vect_test)\n",
        "\n",
        "print(confusion_matrix(y_test,predictions_mnb))  \n",
        "print(classification_report(y_test,predictions_mnb))  \n",
        "print('Accuracy Score: ',accuracy_score(y_test, predictions_mnb))\n",
        "print('Train Accuracy Score: ',mnb.score(count_vect_train,y_train))\n",
        "print('Test Accuracy Score: ',mnb.score(count_vect_test,y_test))\n"
      ],
      "execution_count": null,
      "outputs": [
        {
          "output_type": "stream",
          "name": "stdout",
          "text": [
            "[[1034   93  440]\n",
            " [ 226 2679  655]\n",
            " [ 302  154 3359]]\n",
            "              precision    recall  f1-score   support\n",
            "\n",
            "          -1       0.66      0.66      0.66      1567\n",
            "           0       0.92      0.75      0.83      3560\n",
            "           1       0.75      0.88      0.81      3815\n",
            "\n",
            "    accuracy                           0.79      8942\n",
            "   macro avg       0.78      0.76      0.77      8942\n",
            "weighted avg       0.80      0.79      0.79      8942\n",
            "\n",
            "Accuracy Score:  0.7908745247148289\n",
            "Train Accuracy Score:  0.95143568093494\n",
            "Test Accuracy Score:  0.7908745247148289\n"
          ]
        }
      ]
    },
    {
      "cell_type": "markdown",
      "metadata": {
        "id": "77DrxVjsVBgy"
      },
      "source": [
        "# **Support Vector Machine**"
      ]
    },
    {
      "cell_type": "code",
      "metadata": {
        "id": "TTcmTf1ZU7w0",
        "colab": {
          "base_uri": "https://localhost:8080/"
        },
        "outputId": "e5fe708b-a747-43cb-c277-799f711f3479"
      },
      "source": [
        "from sklearn.svm import LinearSVC \n",
        "\n",
        "linSVC = LinearSVC(C= 1.0, loss= 'squared_hinge', max_iter= 10000, penalty= 'l2', multi_class='crammer_singer', random_state = 500)  \n",
        "linSVC.fit(count_vect_train, y_train) \n",
        "\n",
        "predictions_linSVC = linSVC.predict(count_vect_test)\n",
        "print(confusion_matrix(y_test,predictions_linSVC))  \n",
        "print(classification_report(y_test,predictions_linSVC))  \n",
        "print('Accuracy Score: ',accuracy_score(y_test, predictions_linSVC))\n",
        "print('Train Accuracy Score: ',linSVC.score(count_vect_train,y_train))\n",
        "print('Test Accuracy Score: ',linSVC.score(count_vect_test,y_test))"
      ],
      "execution_count": null,
      "outputs": [
        {
          "output_type": "stream",
          "name": "stdout",
          "text": [
            "[[1331   72  164]\n",
            " [  41 3487   32]\n",
            " [ 123   55 3637]]\n",
            "              precision    recall  f1-score   support\n",
            "\n",
            "          -1       0.89      0.85      0.87      1567\n",
            "           0       0.96      0.98      0.97      3560\n",
            "           1       0.95      0.95      0.95      3815\n",
            "\n",
            "    accuracy                           0.95      8942\n",
            "   macro avg       0.93      0.93      0.93      8942\n",
            "weighted avg       0.94      0.95      0.95      8942\n",
            "\n",
            "Accuracy Score:  0.9455379109818832\n",
            "Train Accuracy Score:  0.9970922917773366\n",
            "Test Accuracy Score:  0.9455379109818832\n"
          ]
        },
        {
          "output_type": "stream",
          "name": "stderr",
          "text": [
            "/usr/local/lib/python3.7/dist-packages/sklearn/svm/_base.py:947: ConvergenceWarning:\n",
            "\n",
            "Liblinear failed to converge, increase the number of iterations.\n",
            "\n"
          ]
        }
      ]
    },
    {
      "cell_type": "markdown",
      "metadata": {
        "id": "FgvLNYUjWVk-"
      },
      "source": [
        "# **Multi-Class Logistic Regression**"
      ]
    },
    {
      "cell_type": "code",
      "metadata": {
        "id": "zid6owxrWNGK",
        "colab": {
          "base_uri": "https://localhost:8080/"
        },
        "outputId": "dae81cf5-39ca-4b93-bd97-dab96df6402c"
      },
      "source": [
        "from sklearn.linear_model import LogisticRegression\n",
        "\n",
        "logRes = LogisticRegression(C=1, random_state=0,max_iter=100,multi_class='multinomial')\n",
        "logRes.fit(count_vect_train, y_train)\n",
        "\n",
        "\n",
        "predictions_logRes = logRes.predict(count_vect_test)\n",
        "\n",
        "print(confusion_matrix(y_test,predictions_logRes))  \n",
        "print(classification_report(y_test,predictions_logRes))  \n",
        "print('Accuracy Score: ',accuracy_score(y_test, predictions_logRes))\n",
        "print('Train Accuracy Score: ',logRes.score(count_vect_train,y_train))\n",
        "print('Test Accuracy Score: ',logRes.score(count_vect_test,y_test))\n"
      ],
      "execution_count": null,
      "outputs": [
        {
          "output_type": "stream",
          "name": "stdout",
          "text": [
            "[[1268  123  176]\n",
            " [  28 3493   39]\n",
            " [  88   87 3640]]\n",
            "              precision    recall  f1-score   support\n",
            "\n",
            "          -1       0.92      0.81      0.86      1567\n",
            "           0       0.94      0.98      0.96      3560\n",
            "           1       0.94      0.95      0.95      3815\n",
            "\n",
            "    accuracy                           0.94      8942\n",
            "   macro avg       0.93      0.91      0.92      8942\n",
            "weighted avg       0.94      0.94      0.94      8942\n",
            "\n",
            "Accuracy Score:  0.9394989935137553\n",
            "Train Accuracy Score:  0.9878659099169625\n",
            "Test Accuracy Score:  0.9394989935137553\n"
          ]
        },
        {
          "output_type": "stream",
          "name": "stderr",
          "text": [
            "/usr/local/lib/python3.7/dist-packages/sklearn/linear_model/_logistic.py:940: ConvergenceWarning:\n",
            "\n",
            "lbfgs failed to converge (status=1):\n",
            "STOP: TOTAL NO. of ITERATIONS REACHED LIMIT.\n",
            "\n",
            "Increase the number of iterations (max_iter) or scale the data as shown in:\n",
            "    https://scikit-learn.org/stable/modules/preprocessing.html\n",
            "Please also refer to the documentation for alternative solver options:\n",
            "    https://scikit-learn.org/stable/modules/linear_model.html#logistic-regression\n",
            "\n"
          ]
        }
      ]
    },
    {
      "cell_type": "markdown",
      "metadata": {
        "id": "08NupXeuXCHl"
      },
      "source": [
        "# **Adaboost Classifier**"
      ]
    },
    {
      "cell_type": "code",
      "metadata": {
        "id": "4cHbhAexWxbv",
        "colab": {
          "base_uri": "https://localhost:8080/"
        },
        "outputId": "4add1f2c-41c0-4ca3-ea1c-4dcbda4c6138"
      },
      "source": [
        "from sklearn.ensemble import AdaBoostClassifier\n",
        "\n",
        "abc = AdaBoostClassifier(n_estimators = 300, learning_rate = 1)\n",
        "abc.fit(count_vect_train, y_train)\n",
        " \n",
        "predictions_abc = abc.predict(count_vect_test)\n",
        "\n",
        "print(confusion_matrix(y_test,predictions_abc))  \n",
        "print(classification_report(y_test,predictions_abc))  \n",
        "print('Accuracy Score: ',accuracy_score(y_test, predictions_abc))\n",
        "print('Train Accuracy Score: ',abc.score(count_vect_train,y_train))\n",
        "print('Test Accuracy Score: ',abc.score(count_vect_test,y_test))"
      ],
      "execution_count": null,
      "outputs": [
        {
          "output_type": "stream",
          "name": "stdout",
          "text": [
            "[[1040  281  246]\n",
            " [  23 3505   32]\n",
            " [ 196  229 3390]]\n",
            "              precision    recall  f1-score   support\n",
            "\n",
            "          -1       0.83      0.66      0.74      1567\n",
            "           0       0.87      0.98      0.93      3560\n",
            "           1       0.92      0.89      0.91      3815\n",
            "\n",
            "    accuracy                           0.89      8942\n",
            "   macro avg       0.87      0.85      0.86      8942\n",
            "weighted avg       0.89      0.89      0.88      8942\n",
            "\n",
            "Accuracy Score:  0.8873853723999106\n",
            "Train Accuracy Score:  0.8951267928537479\n",
            "Test Accuracy Score:  0.8873853723999106\n"
          ]
        }
      ]
    },
    {
      "cell_type": "code",
      "metadata": {
        "id": "Fy4Qcr-5XQpN"
      },
      "source": [
        ""
      ],
      "execution_count": null,
      "outputs": []
    }
  ]
}