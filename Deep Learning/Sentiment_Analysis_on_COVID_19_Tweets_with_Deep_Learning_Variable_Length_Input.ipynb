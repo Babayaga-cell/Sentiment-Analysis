{
  "nbformat": 4,
  "nbformat_minor": 0,
  "metadata": {
    "accelerator": "GPU",
    "colab": {
      "name": "Sentiment_Analysis_on_COVID_19_Tweets_with_Deep_Learning_Variable Length Input.ipynb",
      "provenance": [],
      "collapsed_sections": [
        "6_WXa2O9UNWE"
      ]
    },
    "kernelspec": {
      "display_name": "Python 3",
      "name": "python3"
    }
  },
  "cells": [
    {
      "cell_type": "markdown",
      "metadata": {
        "id": "VUGGej1Yc8Fz"
      },
      "source": [
        "# **Sentiment Analysis on COVID-19 related Tweets (Deep Learning: LSTM with Variable Length Input Sequence)**"
      ]
    },
    {
      "cell_type": "markdown",
      "metadata": {
        "id": "wlk1RRSAK2cB"
      },
      "source": [
        "\n",
        "*   Dataset: SentimentAnalysisCOVID-19MasterFinalDataset.csv\n",
        "*   Runtime Type: GPU\n",
        "\n",
        "\n"
      ]
    },
    {
      "cell_type": "markdown",
      "metadata": {
        "id": "NgCQTIktNDe2"
      },
      "source": [
        "# **Mount Google Drive**"
      ]
    },
    {
      "cell_type": "code",
      "metadata": {
        "id": "fTKBZ_I-yNQx",
        "colab": {
          "base_uri": "https://localhost:8080/"
        },
        "outputId": "87543eb5-07f6-4602-ff73-daf3b1b1c030"
      },
      "source": [
        "# We have to mount\n",
        "from google.colab import drive\n",
        "drive.mount('/content/gdrive',force_remount=True)"
      ],
      "execution_count": null,
      "outputs": [
        {
          "output_type": "stream",
          "name": "stdout",
          "text": [
            "Mounted at /content/gdrive\n"
          ]
        }
      ]
    },
    {
      "cell_type": "markdown",
      "metadata": {
        "id": "TXE7IVIhNNEb"
      },
      "source": [
        "# **Import Packages**"
      ]
    },
    {
      "cell_type": "code",
      "metadata": {
        "id": "JwVQDFnX0OqY"
      },
      "source": [
        "#library imports\n",
        "import torch\n",
        "import torch.nn as nn\n",
        "import pandas as pd\n",
        "import numpy as np\n",
        "import nltk\n",
        "import re\n",
        "import spacy\n",
        "from collections import Counter\n",
        "from torch.utils.data import Dataset, DataLoader\n",
        "import torch.nn.functional as F\n",
        "import string\n",
        "from torch.nn.utils.rnn import pack_padded_sequence, pad_packed_sequence\n",
        "from sklearn.metrics import mean_squared_error"
      ],
      "execution_count": null,
      "outputs": []
    },
    {
      "cell_type": "markdown",
      "metadata": {
        "id": "jOPYQ7piNKdl"
      },
      "source": [
        "# **Read COVID-19 Dataset**\n"
      ]
    },
    {
      "cell_type": "code",
      "metadata": {
        "id": "13b5ttM2yrbn",
        "colab": {
          "base_uri": "https://localhost:8080/"
        },
        "outputId": "11bb0a4b-4714-47f7-cc0e-fc6831384389"
      },
      "source": [
        "#Read CSV from Pandas for Data Analysis\n",
        "import pandas as pd\n",
        "\n",
        "f = open('gdrive/My Drive/Colab Notebooks/SentimentAnalysisCOVID-19MasterFinalDataset.csv','rU')   \n",
        "df = pd.read_csv(f)"
      ],
      "execution_count": null,
      "outputs": [
        {
          "output_type": "stream",
          "name": "stderr",
          "text": [
            "/usr/local/lib/python3.7/dist-packages/ipykernel_launcher.py:4: DeprecationWarning: 'U' mode is deprecated\n",
            "  after removing the cwd from sys.path.\n"
          ]
        }
      ]
    },
    {
      "cell_type": "code",
      "metadata": {
        "id": "jwurRSppzCc2",
        "colab": {
          "base_uri": "https://localhost:8080/",
          "height": 202
        },
        "outputId": "cdb0fc8f-fb77-4259-b3c2-f53c4899e666"
      },
      "source": [
        "df = df[['Translated','Sentiment']]\n",
        "df.head()"
      ],
      "execution_count": null,
      "outputs": [
        {
          "output_type": "execute_result",
          "data": {
            "text/html": [
              "<div>\n",
              "<style scoped>\n",
              "    .dataframe tbody tr th:only-of-type {\n",
              "        vertical-align: middle;\n",
              "    }\n",
              "\n",
              "    .dataframe tbody tr th {\n",
              "        vertical-align: top;\n",
              "    }\n",
              "\n",
              "    .dataframe thead th {\n",
              "        text-align: right;\n",
              "    }\n",
              "</style>\n",
              "<table border=\"1\" class=\"dataframe\">\n",
              "  <thead>\n",
              "    <tr style=\"text-align: right;\">\n",
              "      <th></th>\n",
              "      <th>Translated</th>\n",
              "      <th>Sentiment</th>\n",
              "    </tr>\n",
              "  </thead>\n",
              "  <tbody>\n",
              "    <tr>\n",
              "      <th>0</th>\n",
              "      <td>me to covid</td>\n",
              "      <td>Neutral</td>\n",
              "    </tr>\n",
              "    <tr>\n",
              "      <th>1</th>\n",
              "      <td>so many realizations during ecq because of cov...</td>\n",
              "      <td>Positive</td>\n",
              "    </tr>\n",
              "    <tr>\n",
              "      <th>2</th>\n",
              "      <td>it's like a covid covid kesa back to cejay hah...</td>\n",
              "      <td>Positive</td>\n",
              "    </tr>\n",
              "    <tr>\n",
              "      <th>3</th>\n",
              "      <td>while we are all fighting against covid meanwh...</td>\n",
              "      <td>Neutral</td>\n",
              "    </tr>\n",
              "    <tr>\n",
              "      <th>4</th>\n",
              "      <td>person house because of covid</td>\n",
              "      <td>Neutral</td>\n",
              "    </tr>\n",
              "  </tbody>\n",
              "</table>\n",
              "</div>"
            ],
            "text/plain": [
              "                                          Translated Sentiment\n",
              "0                                        me to covid   Neutral\n",
              "1  so many realizations during ecq because of cov...  Positive\n",
              "2  it's like a covid covid kesa back to cejay hah...  Positive\n",
              "3  while we are all fighting against covid meanwh...   Neutral\n",
              "4                      person house because of covid   Neutral"
            ]
          },
          "metadata": {},
          "execution_count": 4
        }
      ]
    },
    {
      "cell_type": "code",
      "metadata": {
        "id": "nti287DIzJnc",
        "colab": {
          "base_uri": "https://localhost:8080/"
        },
        "outputId": "c3ecb5ac-1853-45b0-9843-58a709a04c39"
      },
      "source": [
        "print(df.shape)"
      ],
      "execution_count": null,
      "outputs": [
        {
          "output_type": "stream",
          "name": "stdout",
          "text": [
            "(44709, 2)\n"
          ]
        }
      ]
    },
    {
      "cell_type": "code",
      "metadata": {
        "id": "-9uRWCxetULi"
      },
      "source": [
        "def convert_label(polarity):\n",
        "  polarity.lower()\n",
        "  for i in range(len(df)):\n",
        "    if polarity == \"Negative\":\n",
        "      return 0;\n",
        "    elif polarity == \"Neutral\":\n",
        "      return 1;\n",
        "    elif polarity == \"Positive\":\n",
        "      return 2;\n",
        "\n",
        "df[\"Analysis\"] = df[\"Sentiment\"].apply(convert_label)          "
      ],
      "execution_count": null,
      "outputs": []
    },
    {
      "cell_type": "code",
      "metadata": {
        "id": "d2qxgBACuI5K"
      },
      "source": [
        "#df.dropna(inplace=True)\n",
        "#df.reset_index(drop=True, inplace=True)"
      ],
      "execution_count": null,
      "outputs": []
    },
    {
      "cell_type": "code",
      "metadata": {
        "id": "mGRUbEu6udNE",
        "colab": {
          "base_uri": "https://localhost:8080/",
          "height": 355
        },
        "outputId": "03032e96-9a27-48dd-b6e3-48d1ae3a9b68"
      },
      "source": [
        "df.head(10)"
      ],
      "execution_count": null,
      "outputs": [
        {
          "output_type": "execute_result",
          "data": {
            "text/html": [
              "<div>\n",
              "<style scoped>\n",
              "    .dataframe tbody tr th:only-of-type {\n",
              "        vertical-align: middle;\n",
              "    }\n",
              "\n",
              "    .dataframe tbody tr th {\n",
              "        vertical-align: top;\n",
              "    }\n",
              "\n",
              "    .dataframe thead th {\n",
              "        text-align: right;\n",
              "    }\n",
              "</style>\n",
              "<table border=\"1\" class=\"dataframe\">\n",
              "  <thead>\n",
              "    <tr style=\"text-align: right;\">\n",
              "      <th></th>\n",
              "      <th>Translated</th>\n",
              "      <th>Sentiment</th>\n",
              "      <th>Analysis</th>\n",
              "    </tr>\n",
              "  </thead>\n",
              "  <tbody>\n",
              "    <tr>\n",
              "      <th>0</th>\n",
              "      <td>me to covid</td>\n",
              "      <td>Neutral</td>\n",
              "      <td>1</td>\n",
              "    </tr>\n",
              "    <tr>\n",
              "      <th>1</th>\n",
              "      <td>so many realizations during ecq because of cov...</td>\n",
              "      <td>Positive</td>\n",
              "      <td>2</td>\n",
              "    </tr>\n",
              "    <tr>\n",
              "      <th>2</th>\n",
              "      <td>it's like a covid covid kesa back to cejay hah...</td>\n",
              "      <td>Positive</td>\n",
              "      <td>2</td>\n",
              "    </tr>\n",
              "    <tr>\n",
              "      <th>3</th>\n",
              "      <td>while we are all fighting against covid meanwh...</td>\n",
              "      <td>Neutral</td>\n",
              "      <td>1</td>\n",
              "    </tr>\n",
              "    <tr>\n",
              "      <th>4</th>\n",
              "      <td>person house because of covid</td>\n",
              "      <td>Neutral</td>\n",
              "      <td>1</td>\n",
              "    </tr>\n",
              "    <tr>\n",
              "      <th>5</th>\n",
              "      <td>I will die in stress not in covid</td>\n",
              "      <td>Neutral</td>\n",
              "      <td>1</td>\n",
              "    </tr>\n",
              "    <tr>\n",
              "      <th>6</th>\n",
              "      <td>I Want To Join Case There is still a covid</td>\n",
              "      <td>Neutral</td>\n",
              "      <td>1</td>\n",
              "    </tr>\n",
              "    <tr>\n",
              "      <th>7</th>\n",
              "      <td>So confiscate the Akuang Alcohol ML then the w...</td>\n",
              "      <td>Neutral</td>\n",
              "      <td>1</td>\n",
              "    </tr>\n",
              "    <tr>\n",
              "      <th>8</th>\n",
              "      <td>i choose you to be a positive from covid  char...</td>\n",
              "      <td>Positive</td>\n",
              "      <td>2</td>\n",
              "    </tr>\n",
              "    <tr>\n",
              "      <th>9</th>\n",
              "      <td>jgh then ligo grabe covid stop na 🤷</td>\n",
              "      <td>Neutral</td>\n",
              "      <td>1</td>\n",
              "    </tr>\n",
              "  </tbody>\n",
              "</table>\n",
              "</div>"
            ],
            "text/plain": [
              "                                          Translated Sentiment  Analysis\n",
              "0                                        me to covid   Neutral         1\n",
              "1  so many realizations during ecq because of cov...  Positive         2\n",
              "2  it's like a covid covid kesa back to cejay hah...  Positive         2\n",
              "3  while we are all fighting against covid meanwh...   Neutral         1\n",
              "4                      person house because of covid   Neutral         1\n",
              "5                  I will die in stress not in covid   Neutral         1\n",
              "6         I Want To Join Case There is still a covid   Neutral         1\n",
              "7  So confiscate the Akuang Alcohol ML then the w...   Neutral         1\n",
              "8  i choose you to be a positive from covid  char...  Positive         2\n",
              "9                jgh then ligo grabe covid stop na 🤷   Neutral         1"
            ]
          },
          "metadata": {},
          "execution_count": 8
        }
      ]
    },
    {
      "cell_type": "markdown",
      "metadata": {
        "id": "SgKi_ZS7Oy12"
      },
      "source": [
        "# **Stop-words**"
      ]
    },
    {
      "cell_type": "code",
      "metadata": {
        "id": "xM_YBlRbP4Mj",
        "colab": {
          "base_uri": "https://localhost:8080/"
        },
        "outputId": "595d522a-0be2-4184-c6cb-4fef087bf7a9"
      },
      "source": [
        "import nltk\n",
        "\n",
        "nltk.download('stopwords')\n",
        "\n",
        "from nltk.corpus import stopwords\n",
        "stopword = set(stopwords.words('english'))"
      ],
      "execution_count": null,
      "outputs": [
        {
          "output_type": "stream",
          "name": "stdout",
          "text": [
            "[nltk_data] Downloading package stopwords to /root/nltk_data...\n",
            "[nltk_data]   Unzipping corpora/stopwords.zip.\n"
          ]
        }
      ]
    },
    {
      "cell_type": "code",
      "metadata": {
        "id": "QamWEKZrSpTm",
        "colab": {
          "base_uri": "https://localhost:8080/",
          "height": 202
        },
        "outputId": "dcba8564-8a63-46e7-bf50-71e16e11768c"
      },
      "source": [
        "def cleanTxt(text):\n",
        "  text = re.sub(r'@[A-Za-z0-9]+','',text) #remove @mentions\n",
        "  text = re.sub(r'#','', text) #removing the '#' symbol\n",
        "  text = re.sub(r'RT[\\s]+','', text) #Removing RT\n",
        "  text = re.sub(r'https?:\\/\\/\\S+', '',text) #remove the hyper link\n",
        "  text = re.sub('([^A-Za-z\\ ])','',text) #removes everything and keeps only letters\n",
        "  text = text.lower() #transforms everything to lowercase\n",
        "  text = [word for word in text.split() if text.lower() not in stopword] #removes stopwords\n",
        "  text = ' '.join(text)\n",
        "  return text\n",
        "\n",
        "df['Translated'] = df['Translated'].apply(cleanTxt)\n",
        "df.head()"
      ],
      "execution_count": null,
      "outputs": [
        {
          "output_type": "execute_result",
          "data": {
            "text/html": [
              "<div>\n",
              "<style scoped>\n",
              "    .dataframe tbody tr th:only-of-type {\n",
              "        vertical-align: middle;\n",
              "    }\n",
              "\n",
              "    .dataframe tbody tr th {\n",
              "        vertical-align: top;\n",
              "    }\n",
              "\n",
              "    .dataframe thead th {\n",
              "        text-align: right;\n",
              "    }\n",
              "</style>\n",
              "<table border=\"1\" class=\"dataframe\">\n",
              "  <thead>\n",
              "    <tr style=\"text-align: right;\">\n",
              "      <th></th>\n",
              "      <th>Translated</th>\n",
              "      <th>Sentiment</th>\n",
              "      <th>Analysis</th>\n",
              "    </tr>\n",
              "  </thead>\n",
              "  <tbody>\n",
              "    <tr>\n",
              "      <th>0</th>\n",
              "      <td>me to covid</td>\n",
              "      <td>Neutral</td>\n",
              "      <td>1</td>\n",
              "    </tr>\n",
              "    <tr>\n",
              "      <th>1</th>\n",
              "      <td>so many realizations during ecq because of cov...</td>\n",
              "      <td>Positive</td>\n",
              "      <td>2</td>\n",
              "    </tr>\n",
              "    <tr>\n",
              "      <th>2</th>\n",
              "      <td>its like a covid covid kesa back to cejay haha...</td>\n",
              "      <td>Positive</td>\n",
              "      <td>2</td>\n",
              "    </tr>\n",
              "    <tr>\n",
              "      <th>3</th>\n",
              "      <td>while we are all fighting against covid meanwh...</td>\n",
              "      <td>Neutral</td>\n",
              "      <td>1</td>\n",
              "    </tr>\n",
              "    <tr>\n",
              "      <th>4</th>\n",
              "      <td>person house because of covid</td>\n",
              "      <td>Neutral</td>\n",
              "      <td>1</td>\n",
              "    </tr>\n",
              "  </tbody>\n",
              "</table>\n",
              "</div>"
            ],
            "text/plain": [
              "                                          Translated Sentiment  Analysis\n",
              "0                                        me to covid   Neutral         1\n",
              "1  so many realizations during ecq because of cov...  Positive         2\n",
              "2  its like a covid covid kesa back to cejay haha...  Positive         2\n",
              "3  while we are all fighting against covid meanwh...   Neutral         1\n",
              "4                      person house because of covid   Neutral         1"
            ]
          },
          "metadata": {},
          "execution_count": 10
        }
      ]
    },
    {
      "cell_type": "markdown",
      "metadata": {
        "id": "Dj3m_helTBoN"
      },
      "source": [
        "# **Calculating sentence lengths**"
      ]
    },
    {
      "cell_type": "code",
      "metadata": {
        "id": "Jxxwmu0S0ru9",
        "colab": {
          "base_uri": "https://localhost:8080/",
          "height": 662
        },
        "outputId": "31b25dce-d5cb-4dcf-dd85-dadf017f1c1d"
      },
      "source": [
        "df['length'] = df['Translated'].apply(lambda x: len(x))\n",
        "df = df[['Translated', 'Analysis','length']]\n",
        "\n",
        "df.head(20)\n",
        "\n"
      ],
      "execution_count": null,
      "outputs": [
        {
          "output_type": "execute_result",
          "data": {
            "text/html": [
              "<div>\n",
              "<style scoped>\n",
              "    .dataframe tbody tr th:only-of-type {\n",
              "        vertical-align: middle;\n",
              "    }\n",
              "\n",
              "    .dataframe tbody tr th {\n",
              "        vertical-align: top;\n",
              "    }\n",
              "\n",
              "    .dataframe thead th {\n",
              "        text-align: right;\n",
              "    }\n",
              "</style>\n",
              "<table border=\"1\" class=\"dataframe\">\n",
              "  <thead>\n",
              "    <tr style=\"text-align: right;\">\n",
              "      <th></th>\n",
              "      <th>Translated</th>\n",
              "      <th>Analysis</th>\n",
              "      <th>length</th>\n",
              "    </tr>\n",
              "  </thead>\n",
              "  <tbody>\n",
              "    <tr>\n",
              "      <th>0</th>\n",
              "      <td>me to covid</td>\n",
              "      <td>1</td>\n",
              "      <td>11</td>\n",
              "    </tr>\n",
              "    <tr>\n",
              "      <th>1</th>\n",
              "      <td>so many realizations during ecq because of cov...</td>\n",
              "      <td>2</td>\n",
              "      <td>153</td>\n",
              "    </tr>\n",
              "    <tr>\n",
              "      <th>2</th>\n",
              "      <td>its like a covid covid kesa back to cejay haha...</td>\n",
              "      <td>2</td>\n",
              "      <td>50</td>\n",
              "    </tr>\n",
              "    <tr>\n",
              "      <th>3</th>\n",
              "      <td>while we are all fighting against covid meanwh...</td>\n",
              "      <td>1</td>\n",
              "      <td>106</td>\n",
              "    </tr>\n",
              "    <tr>\n",
              "      <th>4</th>\n",
              "      <td>person house because of covid</td>\n",
              "      <td>1</td>\n",
              "      <td>29</td>\n",
              "    </tr>\n",
              "    <tr>\n",
              "      <th>5</th>\n",
              "      <td>i will die in stress not in covid</td>\n",
              "      <td>1</td>\n",
              "      <td>33</td>\n",
              "    </tr>\n",
              "    <tr>\n",
              "      <th>6</th>\n",
              "      <td>i want to join case there is still a covid</td>\n",
              "      <td>1</td>\n",
              "      <td>42</td>\n",
              "    </tr>\n",
              "    <tr>\n",
              "      <th>7</th>\n",
              "      <td>so confiscate the akuang alcohol ml then the w...</td>\n",
              "      <td>1</td>\n",
              "      <td>62</td>\n",
              "    </tr>\n",
              "    <tr>\n",
              "      <th>8</th>\n",
              "      <td>i choose you to be a positive from covid charrr</td>\n",
              "      <td>2</td>\n",
              "      <td>47</td>\n",
              "    </tr>\n",
              "    <tr>\n",
              "      <th>9</th>\n",
              "      <td>jgh then ligo grabe covid stop na</td>\n",
              "      <td>1</td>\n",
              "      <td>33</td>\n",
              "    </tr>\n",
              "    <tr>\n",
              "      <th>10</th>\n",
              "      <td>secretary presents the agencys preliminary ass...</td>\n",
              "      <td>1</td>\n",
              "      <td>156</td>\n",
              "    </tr>\n",
              "    <tr>\n",
              "      <th>11</th>\n",
              "      <td>happy birthday to my favorite hooman i miss th...</td>\n",
              "      <td>2</td>\n",
              "      <td>222</td>\n",
              "    </tr>\n",
              "    <tr>\n",
              "      <th>12</th>\n",
              "      <td>the way of the cross is still in the shrine of...</td>\n",
              "      <td>1</td>\n",
              "      <td>219</td>\n",
              "    </tr>\n",
              "    <tr>\n",
              "      <th>13</th>\n",
              "      <td>conducted info dissemination re covid at bound...</td>\n",
              "      <td>1</td>\n",
              "      <td>93</td>\n",
              "    </tr>\n",
              "    <tr>\n",
              "      <th>14</th>\n",
              "      <td>may have finished counting covid so that every...</td>\n",
              "      <td>1</td>\n",
              "      <td>62</td>\n",
              "    </tr>\n",
              "    <tr>\n",
              "      <th>15</th>\n",
              "      <td>mayor climaco analyzing the location of the ho...</td>\n",
              "      <td>1</td>\n",
              "      <td>213</td>\n",
              "    </tr>\n",
              "    <tr>\n",
              "      <th>16</th>\n",
              "      <td>hope all you are just ahahahahahahahahahahah n...</td>\n",
              "      <td>2</td>\n",
              "      <td>78</td>\n",
              "    </tr>\n",
              "    <tr>\n",
              "      <th>17</th>\n",
              "      <td>eto no tribulation is two no matter what payan...</td>\n",
              "      <td>2</td>\n",
              "      <td>143</td>\n",
              "    </tr>\n",
              "    <tr>\n",
              "      <th>18</th>\n",
              "      <td>now you say that you cared for the frontliners...</td>\n",
              "      <td>2</td>\n",
              "      <td>173</td>\n",
              "    </tr>\n",
              "    <tr>\n",
              "      <th>19</th>\n",
              "      <td>online discussion on the role of the social sc...</td>\n",
              "      <td>2</td>\n",
              "      <td>147</td>\n",
              "    </tr>\n",
              "  </tbody>\n",
              "</table>\n",
              "</div>"
            ],
            "text/plain": [
              "                                           Translated  Analysis  length\n",
              "0                                         me to covid         1      11\n",
              "1   so many realizations during ecq because of cov...         2     153\n",
              "2   its like a covid covid kesa back to cejay haha...         2      50\n",
              "3   while we are all fighting against covid meanwh...         1     106\n",
              "4                       person house because of covid         1      29\n",
              "5                   i will die in stress not in covid         1      33\n",
              "6          i want to join case there is still a covid         1      42\n",
              "7   so confiscate the akuang alcohol ml then the w...         1      62\n",
              "8     i choose you to be a positive from covid charrr         2      47\n",
              "9                   jgh then ligo grabe covid stop na         1      33\n",
              "10  secretary presents the agencys preliminary ass...         1     156\n",
              "11  happy birthday to my favorite hooman i miss th...         2     222\n",
              "12  the way of the cross is still in the shrine of...         1     219\n",
              "13  conducted info dissemination re covid at bound...         1      93\n",
              "14  may have finished counting covid so that every...         1      62\n",
              "15  mayor climaco analyzing the location of the ho...         1     213\n",
              "16  hope all you are just ahahahahahahahahahahah n...         2      78\n",
              "17  eto no tribulation is two no matter what payan...         2     143\n",
              "18  now you say that you cared for the frontliners...         2     173\n",
              "19  online discussion on the role of the social sc...         2     147"
            ]
          },
          "metadata": {},
          "execution_count": 11
        }
      ]
    },
    {
      "cell_type": "code",
      "metadata": {
        "id": "MbF6rS7He3q-",
        "colab": {
          "base_uri": "https://localhost:8080/",
          "height": 444
        },
        "outputId": "3fda8425-854c-4cfd-ef27-ac5fce10ff45"
      },
      "source": [
        "df.drop(df[df['length']<10].index, inplace = True)\n",
        "df.reset_index(drop=True, inplace=True)\n",
        "df.head(10)"
      ],
      "execution_count": null,
      "outputs": [
        {
          "output_type": "stream",
          "name": "stderr",
          "text": [
            "/usr/local/lib/python3.7/dist-packages/pandas/core/frame.py:4174: SettingWithCopyWarning: \n",
            "A value is trying to be set on a copy of a slice from a DataFrame\n",
            "\n",
            "See the caveats in the documentation: https://pandas.pydata.org/pandas-docs/stable/user_guide/indexing.html#returning-a-view-versus-a-copy\n",
            "  errors=errors,\n"
          ]
        },
        {
          "output_type": "execute_result",
          "data": {
            "text/html": [
              "<div>\n",
              "<style scoped>\n",
              "    .dataframe tbody tr th:only-of-type {\n",
              "        vertical-align: middle;\n",
              "    }\n",
              "\n",
              "    .dataframe tbody tr th {\n",
              "        vertical-align: top;\n",
              "    }\n",
              "\n",
              "    .dataframe thead th {\n",
              "        text-align: right;\n",
              "    }\n",
              "</style>\n",
              "<table border=\"1\" class=\"dataframe\">\n",
              "  <thead>\n",
              "    <tr style=\"text-align: right;\">\n",
              "      <th></th>\n",
              "      <th>Translated</th>\n",
              "      <th>Analysis</th>\n",
              "      <th>length</th>\n",
              "    </tr>\n",
              "  </thead>\n",
              "  <tbody>\n",
              "    <tr>\n",
              "      <th>0</th>\n",
              "      <td>me to covid</td>\n",
              "      <td>1</td>\n",
              "      <td>11</td>\n",
              "    </tr>\n",
              "    <tr>\n",
              "      <th>1</th>\n",
              "      <td>so many realizations during ecq because of cov...</td>\n",
              "      <td>2</td>\n",
              "      <td>153</td>\n",
              "    </tr>\n",
              "    <tr>\n",
              "      <th>2</th>\n",
              "      <td>its like a covid covid kesa back to cejay haha...</td>\n",
              "      <td>2</td>\n",
              "      <td>50</td>\n",
              "    </tr>\n",
              "    <tr>\n",
              "      <th>3</th>\n",
              "      <td>while we are all fighting against covid meanwh...</td>\n",
              "      <td>1</td>\n",
              "      <td>106</td>\n",
              "    </tr>\n",
              "    <tr>\n",
              "      <th>4</th>\n",
              "      <td>person house because of covid</td>\n",
              "      <td>1</td>\n",
              "      <td>29</td>\n",
              "    </tr>\n",
              "    <tr>\n",
              "      <th>5</th>\n",
              "      <td>i will die in stress not in covid</td>\n",
              "      <td>1</td>\n",
              "      <td>33</td>\n",
              "    </tr>\n",
              "    <tr>\n",
              "      <th>6</th>\n",
              "      <td>i want to join case there is still a covid</td>\n",
              "      <td>1</td>\n",
              "      <td>42</td>\n",
              "    </tr>\n",
              "    <tr>\n",
              "      <th>7</th>\n",
              "      <td>so confiscate the akuang alcohol ml then the w...</td>\n",
              "      <td>1</td>\n",
              "      <td>62</td>\n",
              "    </tr>\n",
              "    <tr>\n",
              "      <th>8</th>\n",
              "      <td>i choose you to be a positive from covid charrr</td>\n",
              "      <td>2</td>\n",
              "      <td>47</td>\n",
              "    </tr>\n",
              "    <tr>\n",
              "      <th>9</th>\n",
              "      <td>jgh then ligo grabe covid stop na</td>\n",
              "      <td>1</td>\n",
              "      <td>33</td>\n",
              "    </tr>\n",
              "  </tbody>\n",
              "</table>\n",
              "</div>"
            ],
            "text/plain": [
              "                                          Translated  Analysis  length\n",
              "0                                        me to covid         1      11\n",
              "1  so many realizations during ecq because of cov...         2     153\n",
              "2  its like a covid covid kesa back to cejay haha...         2      50\n",
              "3  while we are all fighting against covid meanwh...         1     106\n",
              "4                      person house because of covid         1      29\n",
              "5                  i will die in stress not in covid         1      33\n",
              "6         i want to join case there is still a covid         1      42\n",
              "7  so confiscate the akuang alcohol ml then the w...         1      62\n",
              "8    i choose you to be a positive from covid charrr         2      47\n",
              "9                  jgh then ligo grabe covid stop na         1      33"
            ]
          },
          "metadata": {},
          "execution_count": 12
        }
      ]
    },
    {
      "cell_type": "markdown",
      "metadata": {
        "id": "-9scUww5Tpiz"
      },
      "source": [
        "# **Count number of occurences of each word**"
      ]
    },
    {
      "cell_type": "code",
      "metadata": {
        "id": "BSH4ZNnl3CSz"
      },
      "source": [
        "#count number of occurences of each word\n",
        "counts = Counter()\n",
        "for index, row in df.iterrows():\n",
        "    counts.update(row['Translated'])"
      ],
      "execution_count": null,
      "outputs": []
    },
    {
      "cell_type": "markdown",
      "metadata": {
        "id": "flLYlu8oT3YN"
      },
      "source": [
        "# **Creating Vocabulary**"
      ]
    },
    {
      "cell_type": "code",
      "metadata": {
        "id": "cLN4X_ag2usz"
      },
      "source": [
        "#creating vocabulary\n",
        "vocab2index = {\"\":0, \"UNK\":1}\n",
        "words = [\"\", \"UNK\"]\n",
        "for word in counts:\n",
        "    vocab2index[word] = len(words)\n",
        "    words.append(word)"
      ],
      "execution_count": null,
      "outputs": []
    },
    {
      "cell_type": "markdown",
      "metadata": {
        "id": "DyCkjxz1UBRH"
      },
      "source": [
        "# **Encoding Per Tweet**"
      ]
    },
    {
      "cell_type": "code",
      "metadata": {
        "id": "PHy42ImH27OH"
      },
      "source": [
        "def encode_sentence(text, vocab2index, N=42):\n",
        "    encoded = np.zeros(N, dtype=int)\n",
        "    enc1 = np.array([vocab2index.get(word, vocab2index[\"UNK\"]) for word in text])\n",
        "    length = min(N, len(enc1))\n",
        "    encoded[:length] = enc1[:length]\n",
        "    return encoded, length"
      ],
      "execution_count": null,
      "outputs": []
    },
    {
      "cell_type": "code",
      "metadata": {
        "id": "2qndem3u3VoZ",
        "colab": {
          "base_uri": "https://localhost:8080/",
          "height": 564
        },
        "outputId": "afcf7ad4-43ba-4707-99ee-8e57464cc701"
      },
      "source": [
        "df['encoded'] = df['Translated'].apply(lambda x: np.array(encode_sentence(x,vocab2index)))\n",
        "df.head(15)"
      ],
      "execution_count": null,
      "outputs": [
        {
          "output_type": "stream",
          "name": "stderr",
          "text": [
            "/usr/local/lib/python3.7/dist-packages/ipykernel_launcher.py:1: VisibleDeprecationWarning: Creating an ndarray from ragged nested sequences (which is a list-or-tuple of lists-or-tuples-or ndarrays with different lengths or shapes) is deprecated. If you meant to do this, you must specify 'dtype=object' when creating the ndarray\n",
            "  \"\"\"Entry point for launching an IPython kernel.\n"
          ]
        },
        {
          "output_type": "execute_result",
          "data": {
            "text/html": [
              "<div>\n",
              "<style scoped>\n",
              "    .dataframe tbody tr th:only-of-type {\n",
              "        vertical-align: middle;\n",
              "    }\n",
              "\n",
              "    .dataframe tbody tr th {\n",
              "        vertical-align: top;\n",
              "    }\n",
              "\n",
              "    .dataframe thead th {\n",
              "        text-align: right;\n",
              "    }\n",
              "</style>\n",
              "<table border=\"1\" class=\"dataframe\">\n",
              "  <thead>\n",
              "    <tr style=\"text-align: right;\">\n",
              "      <th></th>\n",
              "      <th>Translated</th>\n",
              "      <th>Analysis</th>\n",
              "      <th>length</th>\n",
              "      <th>encoded</th>\n",
              "    </tr>\n",
              "  </thead>\n",
              "  <tbody>\n",
              "    <tr>\n",
              "      <th>0</th>\n",
              "      <td>me to covid</td>\n",
              "      <td>1</td>\n",
              "      <td>11</td>\n",
              "      <td>[[2, 3, 4, 5, 6, 4, 7, 6, 8, 9, 10, 0, 0, 0, 0...</td>\n",
              "    </tr>\n",
              "    <tr>\n",
              "      <th>1</th>\n",
              "      <td>so many realizations during ecq because of cov...</td>\n",
              "      <td>2</td>\n",
              "      <td>153</td>\n",
              "      <td>[[11, 6, 4, 2, 12, 13, 14, 4, 15, 3, 12, 16, 9...</td>\n",
              "    </tr>\n",
              "    <tr>\n",
              "      <th>2</th>\n",
              "      <td>its like a covid covid kesa back to cejay haha...</td>\n",
              "      <td>2</td>\n",
              "      <td>50</td>\n",
              "      <td>[[9, 5, 11, 4, 16, 9, 23, 3, 4, 12, 4, 7, 6, 8...</td>\n",
              "    </tr>\n",
              "    <tr>\n",
              "      <th>3</th>\n",
              "      <td>while we are all fighting against covid meanwh...</td>\n",
              "      <td>1</td>\n",
              "      <td>106</td>\n",
              "      <td>[[24, 25, 9, 16, 3, 4, 24, 3, 4, 12, 15, 3, 4,...</td>\n",
              "    </tr>\n",
              "    <tr>\n",
              "      <th>4</th>\n",
              "      <td>person house because of covid</td>\n",
              "      <td>1</td>\n",
              "      <td>29</td>\n",
              "      <td>[[26, 3, 15, 11, 6, 13, 4, 25, 6, 18, 11, 3, 4...</td>\n",
              "    </tr>\n",
              "    <tr>\n",
              "      <th>5</th>\n",
              "      <td>i will die in stress not in covid</td>\n",
              "      <td>1</td>\n",
              "      <td>33</td>\n",
              "      <td>[[9, 4, 24, 9, 16, 16, 4, 10, 9, 3, 4, 9, 13, ...</td>\n",
              "    </tr>\n",
              "    <tr>\n",
              "      <th>6</th>\n",
              "      <td>i want to join case there is still a covid</td>\n",
              "      <td>1</td>\n",
              "      <td>42</td>\n",
              "      <td>[[9, 4, 24, 12, 13, 5, 4, 5, 6, 4, 27, 6, 9, 1...</td>\n",
              "    </tr>\n",
              "    <tr>\n",
              "      <th>7</th>\n",
              "      <td>so confiscate the akuang alcohol ml then the w...</td>\n",
              "      <td>1</td>\n",
              "      <td>62</td>\n",
              "      <td>[[11, 6, 4, 7, 6, 13, 22, 9, 11, 7, 12, 5, 3, ...</td>\n",
              "    </tr>\n",
              "    <tr>\n",
              "      <th>8</th>\n",
              "      <td>i choose you to be a positive from covid charrr</td>\n",
              "      <td>2</td>\n",
              "      <td>47</td>\n",
              "      <td>[[9, 4, 7, 25, 6, 6, 11, 3, 4, 14, 6, 18, 4, 5...</td>\n",
              "    </tr>\n",
              "    <tr>\n",
              "      <th>9</th>\n",
              "      <td>jgh then ligo grabe covid stop na</td>\n",
              "      <td>1</td>\n",
              "      <td>33</td>\n",
              "      <td>[[27, 19, 25, 4, 5, 25, 3, 13, 4, 16, 9, 19, 6...</td>\n",
              "    </tr>\n",
              "    <tr>\n",
              "      <th>10</th>\n",
              "      <td>secretary presents the agencys preliminary ass...</td>\n",
              "      <td>1</td>\n",
              "      <td>156</td>\n",
              "      <td>[[11, 3, 7, 15, 3, 5, 12, 15, 14, 4, 26, 15, 3...</td>\n",
              "    </tr>\n",
              "    <tr>\n",
              "      <th>11</th>\n",
              "      <td>happy birthday to my favorite hooman i miss th...</td>\n",
              "      <td>2</td>\n",
              "      <td>222</td>\n",
              "      <td>[[25, 12, 26, 26, 14, 4, 21, 9, 15, 5, 25, 10,...</td>\n",
              "    </tr>\n",
              "    <tr>\n",
              "      <th>12</th>\n",
              "      <td>the way of the cross is still in the shrine of...</td>\n",
              "      <td>1</td>\n",
              "      <td>219</td>\n",
              "      <td>[[5, 25, 3, 4, 24, 12, 14, 4, 6, 22, 4, 5, 25,...</td>\n",
              "    </tr>\n",
              "    <tr>\n",
              "      <th>13</th>\n",
              "      <td>conducted info dissemination re covid at bound...</td>\n",
              "      <td>1</td>\n",
              "      <td>93</td>\n",
              "      <td>[[7, 6, 13, 10, 18, 7, 5, 3, 10, 4, 9, 13, 22,...</td>\n",
              "    </tr>\n",
              "    <tr>\n",
              "      <th>14</th>\n",
              "      <td>may have finished counting covid so that every...</td>\n",
              "      <td>1</td>\n",
              "      <td>62</td>\n",
              "      <td>[[2, 12, 14, 4, 25, 12, 8, 3, 4, 22, 9, 13, 9,...</td>\n",
              "    </tr>\n",
              "  </tbody>\n",
              "</table>\n",
              "</div>"
            ],
            "text/plain": [
              "                                           Translated  ...                                            encoded\n",
              "0                                         me to covid  ...  [[2, 3, 4, 5, 6, 4, 7, 6, 8, 9, 10, 0, 0, 0, 0...\n",
              "1   so many realizations during ecq because of cov...  ...  [[11, 6, 4, 2, 12, 13, 14, 4, 15, 3, 12, 16, 9...\n",
              "2   its like a covid covid kesa back to cejay haha...  ...  [[9, 5, 11, 4, 16, 9, 23, 3, 4, 12, 4, 7, 6, 8...\n",
              "3   while we are all fighting against covid meanwh...  ...  [[24, 25, 9, 16, 3, 4, 24, 3, 4, 12, 15, 3, 4,...\n",
              "4                       person house because of covid  ...  [[26, 3, 15, 11, 6, 13, 4, 25, 6, 18, 11, 3, 4...\n",
              "5                   i will die in stress not in covid  ...  [[9, 4, 24, 9, 16, 16, 4, 10, 9, 3, 4, 9, 13, ...\n",
              "6          i want to join case there is still a covid  ...  [[9, 4, 24, 12, 13, 5, 4, 5, 6, 4, 27, 6, 9, 1...\n",
              "7   so confiscate the akuang alcohol ml then the w...  ...  [[11, 6, 4, 7, 6, 13, 22, 9, 11, 7, 12, 5, 3, ...\n",
              "8     i choose you to be a positive from covid charrr  ...  [[9, 4, 7, 25, 6, 6, 11, 3, 4, 14, 6, 18, 4, 5...\n",
              "9                   jgh then ligo grabe covid stop na  ...  [[27, 19, 25, 4, 5, 25, 3, 13, 4, 16, 9, 19, 6...\n",
              "10  secretary presents the agencys preliminary ass...  ...  [[11, 3, 7, 15, 3, 5, 12, 15, 14, 4, 26, 15, 3...\n",
              "11  happy birthday to my favorite hooman i miss th...  ...  [[25, 12, 26, 26, 14, 4, 21, 9, 15, 5, 25, 10,...\n",
              "12  the way of the cross is still in the shrine of...  ...  [[5, 25, 3, 4, 24, 12, 14, 4, 6, 22, 4, 5, 25,...\n",
              "13  conducted info dissemination re covid at bound...  ...  [[7, 6, 13, 10, 18, 7, 5, 3, 10, 4, 9, 13, 22,...\n",
              "14  may have finished counting covid so that every...  ...  [[2, 12, 14, 4, 25, 12, 8, 3, 4, 22, 9, 13, 9,...\n",
              "\n",
              "[15 rows x 4 columns]"
            ]
          },
          "metadata": {},
          "execution_count": 16
        }
      ]
    },
    {
      "cell_type": "markdown",
      "metadata": {
        "id": "6_WXa2O9UNWE"
      },
      "source": [
        "#**Data Set Counter**\n",
        "\n",
        "*   Negative = 0\n",
        "*   Neutral = 1\n",
        "*   Positive = 2\n",
        "\n",
        "\n",
        "\n",
        "\n",
        "\n"
      ]
    },
    {
      "cell_type": "code",
      "metadata": {
        "id": "06d2xfhc3e3W",
        "colab": {
          "base_uri": "https://localhost:8080/"
        },
        "outputId": "5eece117-4b3b-45c0-e466-8d60ab8d6b77"
      },
      "source": [
        "#check how balanced the dataset is\n",
        "Counter(df['Analysis'])"
      ],
      "execution_count": null,
      "outputs": [
        {
          "output_type": "execute_result",
          "data": {
            "text/plain": [
              "Counter({0: 7705, 1: 17485, 2: 19482})"
            ]
          },
          "metadata": {},
          "execution_count": 17
        }
      ]
    },
    {
      "cell_type": "markdown",
      "metadata": {
        "id": "gKrQJDSNU_um"
      },
      "source": [
        "# **Modeling**"
      ]
    },
    {
      "cell_type": "code",
      "metadata": {
        "id": "UnwwRKnk3mQI"
      },
      "source": [
        "X = list(df['encoded'])\n",
        "y = list(df['Analysis'])\n",
        "from sklearn.model_selection import train_test_split\n",
        "X_train, X_valid, y_train, y_valid = train_test_split(X, y, test_size=0.20)"
      ],
      "execution_count": null,
      "outputs": []
    },
    {
      "cell_type": "code",
      "metadata": {
        "id": "z6CJYeADnXjy"
      },
      "source": [
        "device = torch.device('cuda' if torch.cuda.is_available() else 'cpu')"
      ],
      "execution_count": null,
      "outputs": []
    },
    {
      "cell_type": "markdown",
      "metadata": {
        "id": "HuqlMHgaV5WO"
      },
      "source": [
        "# **Numpy to Pytorch**"
      ]
    },
    {
      "cell_type": "code",
      "metadata": {
        "id": "eyElZDbC30tX"
      },
      "source": [
        "class ReviewsDataset(Dataset):\n",
        "    def __init__(self, X, Y):\n",
        "        self.X = X\n",
        "        self.y = Y\n",
        "        \n",
        "    def __len__(self):\n",
        "        return len(self.y)\n",
        "    \n",
        "    def __getitem__(self, idx): \n",
        "        return torch.from_numpy(self.X[idx][0].astype(np.int32)).to(device), self.y[idx], self.X[idx][1]"
      ],
      "execution_count": null,
      "outputs": []
    },
    {
      "cell_type": "markdown",
      "metadata": {
        "id": "tSZmmFDdG6zh"
      },
      "source": [
        "# **Declaring Train and Valid Variables for Modeling**\n"
      ]
    },
    {
      "cell_type": "code",
      "metadata": {
        "id": "F1SCj0nn38yL"
      },
      "source": [
        "train_ds = ReviewsDataset(X_train, y_train)\n",
        "valid_ds = ReviewsDataset(X_valid, y_valid)"
      ],
      "execution_count": null,
      "outputs": []
    },
    {
      "cell_type": "code",
      "metadata": {
        "id": "tmoFPQECfQQD"
      },
      "source": [
        "train_loss=list()\n",
        "validation_loss=list()\n",
        "accuracy_val=list()\n",
        "prediction=list()"
      ],
      "execution_count": null,
      "outputs": []
    },
    {
      "cell_type": "markdown",
      "metadata": {
        "id": "wKWIcevlHILv"
      },
      "source": [
        "# **Train Model and Validation Metrics Function**"
      ]
    },
    {
      "cell_type": "code",
      "metadata": {
        "id": "ywy7xulO3_Gw"
      },
      "source": [
        "def train_model(model, epochs, lr,saving_path):\n",
        "    parameters = filter(lambda p: p.requires_grad, model.parameters())\n",
        "    #Utilization of Stochastic Gradient Descent for optimization\n",
        "    #with corresponding Learning Rate\n",
        "    best_valid_loss = float('inf')\n",
        "    optimizer = torch.optim.SGD(parameters, lr=lr)\n",
        "    best_epoch=0\n",
        "    for i in range(epochs):\n",
        "        sum_loss = 0.0\n",
        "        total = 0\n",
        "        correct=0.0\n",
        "        for x, y, l in train_dl:\n",
        "            # x is the data\n",
        "            # y is the target variable (true label)\n",
        "            # l is the label\n",
        "\n",
        "            x = x.long()\n",
        "            y = y.long().to(device)\n",
        "\n",
        "            #prediction of the model using the given data\n",
        "            y_pred = model(x, l)\n",
        "            pred = torch.max(y_pred, 1)[1]\n",
        "\n",
        "            #resetting gradients for each iteration\n",
        "            optimizer.zero_grad()\n",
        "            #using Cross Entropy for Loss calculation\n",
        "            loss = F.cross_entropy(y_pred, y).to(device)\n",
        "            #backward propagation\n",
        "            loss.backward()\n",
        "            #gradient step\n",
        "            optimizer.step()\n",
        "            #calculation of total loss value\n",
        "            sum_loss += loss.item()*y.shape[0]\n",
        "            total += y.shape[0]\n",
        "            correct += (pred == y).float().sum()\n",
        "        #return values from the validation metrics    \n",
        "        val_loss, val_acc, val_rmse = validation_metrics(model, val_dl)\n",
        "\n",
        "        #gathering the data for train loss, validation loss, accuracy\n",
        "        #for each epoch\n",
        "        train_loss.append(sum_loss/total)\n",
        "        validation_loss.append(val_loss)\n",
        "        accuracy_val.append(val_acc)\n",
        "\n",
        "        print(\"Epoch \"+str(i+1)+\": train loss %.3f, val loss %.3f, train accuracy %.3f, val accuracy %.3f, and val rmse %.3f\" % \n",
        "              (sum_loss/total, val_loss, correct/total, val_acc, val_rmse))\n",
        "        \n",
        "        if val_loss < best_valid_loss:\n",
        "          best_valid_loss = val_loss\n",
        "          best_val_acc=val_acc\n",
        "          best_epoch=i\n",
        "          torch.save({'epoch': i,\n",
        "            #'pretrained_weights':pretrained_weights,\n",
        "            'model_state_dict': model.state_dict(),\n",
        "            'optimizer_state_dict': optimizer.state_dict(),\n",
        "            'val_loss': val_loss,\n",
        "            'train_loss': sum_loss/total,\n",
        "            'train_acc': correct/total,\n",
        "            'val_acc':val_acc}\n",
        "            , saving_path)\n",
        "          \n",
        "        if abs((sum_loss/total)-val_loss) >= 0.2:\n",
        "          return best_epoch\n",
        "    return best_epoch\n",
        "\n",
        "def validation_metrics (model, valid_dl):\n",
        "    correct = 0\n",
        "    total = 0\n",
        "    sum_loss = 0.0\n",
        "    sum_rmse = 0.0\n",
        "    for x, y, l in valid_dl:\n",
        "      # x is the data\n",
        "      # y is the target variable (true label)\n",
        "      # l is the label\n",
        "      x = x.long()\n",
        "      y = y.long().to(device)\n",
        "\n",
        "      #prediction of the model using the given data\n",
        "      y_hat = model(x, l)\n",
        "\n",
        "      #using Cross Entropy for Loss calculation\n",
        "      loss = F.cross_entropy(y_hat, y).to(device)\n",
        "      pred = torch.max(y_hat, 1)[1]\n",
        "\n",
        "      #collecting the prediction data for y_pred use in classification report\n",
        "      prediction.append(pred)\n",
        "\n",
        "      #calculation of total loss value and RMSE\n",
        "      correct += (pred == y).float().sum()\n",
        "      total += y.shape[0]\n",
        "      sum_loss += loss.item()*y.shape[0]\n",
        "      sum_rmse += np.sqrt(mean_squared_error(pred.cpu(), y.cpu().unsqueeze(-1)))*y.shape[0]\n",
        "    return sum_loss/total, correct/total, sum_rmse/total"
      ],
      "execution_count": null,
      "outputs": []
    },
    {
      "cell_type": "code",
      "metadata": {
        "id": "5o-DfAM14CQe"
      },
      "source": [
        "batch_size = 128\n",
        "vocab_size = len(words)\n",
        "train_dl = DataLoader(train_ds, batch_size=batch_size, shuffle=False)\n",
        "val_dl = DataLoader(valid_ds, batch_size=batch_size)"
      ],
      "execution_count": null,
      "outputs": []
    },
    {
      "cell_type": "markdown",
      "metadata": {
        "id": "76l2zAGcHRvX"
      },
      "source": [
        "# **LSTM Function**"
      ]
    },
    {
      "cell_type": "code",
      "metadata": {
        "id": "KK4gMcJJ4Hvk"
      },
      "source": [
        "class LSTM_variable_input(torch.nn.Module) :\n",
        "    def __init__(self, vocab_size, embedding_dim, hidden_dim) :\n",
        "        super().__init__()\n",
        "        self.hidden_dim = hidden_dim\n",
        "        self.dropout = nn.Dropout(0.1)\n",
        "        self.embeddings = nn.Embedding(vocab_size, embedding_dim, padding_idx=0)\n",
        "        self.lstm = nn.LSTM(embedding_dim, hidden_dim, batch_first=True, bidirectional = True)\n",
        "        self.linear = nn.Linear(hidden_dim, 3)\n",
        "        \n",
        "    def forward(self, x, s):\n",
        "        x = self.embeddings(x)\n",
        "        x = self.dropout(x)\n",
        "        x_pack = pack_padded_sequence(x, s, batch_first=True, enforce_sorted=False)\n",
        "        out_pack, (ht, ct) = self.lstm(x_pack)\n",
        "        out = self.linear(ht[-1])\n",
        "        return out"
      ],
      "execution_count": null,
      "outputs": []
    },
    {
      "cell_type": "markdown",
      "metadata": {
        "id": "7GcEODTNF7m4"
      },
      "source": [
        "# **Dimensions**"
      ]
    },
    {
      "cell_type": "code",
      "metadata": {
        "id": "34q4eT3W4X6p"
      },
      "source": [
        "\n",
        "#model = LSTM_variable_input(vocab_size, 32, 64)\n",
        "#model = LSTM_variable_input(vocab_size, 64, 64)\n",
        "#model = LSTM_variable_input(vocab_size, 128, 64)\n",
        "model = LSTM_variable_input(vocab_size, 128, 64)\n",
        "#model = LSTM_variable_input(vocab_size, 256, 128)\n",
        "#model = LSTM_variable_input(vocab_size, 256, 256)"
      ],
      "execution_count": null,
      "outputs": []
    },
    {
      "cell_type": "code",
      "metadata": {
        "id": "AO61_pXxoGFs",
        "colab": {
          "base_uri": "https://localhost:8080/"
        },
        "outputId": "4bcd40ca-35c0-44b3-c9f6-4d12bd6141ae"
      },
      "source": [
        "model.to(device)"
      ],
      "execution_count": null,
      "outputs": [
        {
          "output_type": "execute_result",
          "data": {
            "text/plain": [
              "LSTM_variable_input(\n",
              "  (dropout): Dropout(p=0.1, inplace=False)\n",
              "  (embeddings): Embedding(29, 128, padding_idx=0)\n",
              "  (lstm): LSTM(128, 64, batch_first=True, bidirectional=True)\n",
              "  (linear): Linear(in_features=64, out_features=3, bias=True)\n",
              ")"
            ]
          },
          "metadata": {},
          "execution_count": 27
        }
      ]
    },
    {
      "cell_type": "markdown",
      "metadata": {
        "id": "QNVAh_Cb4IL0"
      },
      "source": [
        "#**Train Model**\n"
      ]
    },
    {
      "cell_type": "code",
      "metadata": {
        "id": "drzZYdue4HPi"
      },
      "source": [
        "final_path='/content/gdrive/MyDrive/Best_Model_LSTM_Thesis_nonEmbedded.pt'\n",
        "\n",
        "\n",
        "stop_epoch = train_model(model, epochs=2000, lr=0.2, saving_path=final_path)"
      ],
      "execution_count": null,
      "outputs": []
    },
    {
      "cell_type": "code",
      "metadata": {
        "id": "lVwt6Bejf2k_"
      },
      "source": [
        "#Getting the y values (label)\n",
        "targets=list()\n",
        "for x,y,l in val_dl:\n",
        "  for z in y:\n",
        "    targets.append(z)\n",
        "print(targets)"
      ],
      "execution_count": null,
      "outputs": []
    },
    {
      "cell_type": "code",
      "metadata": {
        "id": "r2e1nn8Cf4KU"
      },
      "source": [
        "temp = 0\n",
        "for i in prediction:\n",
        "  temp+=1\n",
        "  if(len(i)< 128):\n",
        "    temp+=1\n",
        "    break\n",
        "print('prediction model indexing for validation', temp-1)"
      ],
      "execution_count": null,
      "outputs": []
    },
    {
      "cell_type": "code",
      "metadata": {
        "id": "ECx9obkqf6yo"
      },
      "source": [
        "preds=list()\n",
        "temp=prediction[(stop_epoch*70):(stop_epoch*70)+70]\n",
        "for i in range (0,len(temp)):\n",
        "  for z in temp[i]:\n",
        "    preds.append(z.cpu().numpy())\n"
      ],
      "execution_count": null,
      "outputs": []
    },
    {
      "cell_type": "markdown",
      "metadata": {
        "id": "63mlGFcwHgYb"
      },
      "source": [
        "# **Evaluation Metrics**"
      ]
    },
    {
      "cell_type": "code",
      "metadata": {
        "id": "6JLzqqf5f7YF"
      },
      "source": [
        "#Confusion Matrix\n",
        "from sklearn.metrics import classification_report\n",
        "from sklearn.metrics import confusion_matrix\n",
        "y_true = targets\n",
        "y_pred = preds\n",
        "#print(confusion_matrix(y_true, y_pred))\n",
        "print(classification_report(y_true, y_pred))"
      ],
      "execution_count": null,
      "outputs": []
    },
    {
      "cell_type": "markdown",
      "metadata": {
        "id": "m1Bsb_SZ4cH1"
      },
      "source": [
        "#**Experiments**"
      ]
    },
    {
      "cell_type": "code",
      "metadata": {
        "id": "L07YU9RloPIA"
      },
      "source": [
        "#stop_epoch = train_model(model, epochs=2000, lr=0.2, saving_path=final_path)"
      ],
      "execution_count": null,
      "outputs": []
    },
    {
      "cell_type": "code",
      "metadata": {
        "id": "jDOhbnstOgXA"
      },
      "source": [
        "#stop_epoch = train_model(model, epochs=2000, lr=0.3, saving_path=final_path)"
      ],
      "execution_count": null,
      "outputs": []
    },
    {
      "cell_type": "code",
      "metadata": {
        "id": "CQIA66fPycPI"
      },
      "source": [
        "#stop_epoch = train_model(model, epochs=2000, lr=0.4, saving_path=final_path)"
      ],
      "execution_count": null,
      "outputs": []
    },
    {
      "cell_type": "code",
      "metadata": {
        "id": "dqZQhW3Cyd3V"
      },
      "source": [
        "#stop_epoch = train_model(model, epochs=2000, lr=0.5, saving_path=final_path)"
      ],
      "execution_count": null,
      "outputs": []
    },
    {
      "cell_type": "code",
      "metadata": {
        "id": "Cg7Pz-B4DIfl"
      },
      "source": [
        "#stop_epoch = train_model(model, epochs=2000, lr=0.6, saving_path=final_path)"
      ],
      "execution_count": null,
      "outputs": []
    },
    {
      "cell_type": "code",
      "metadata": {
        "id": "UhTm7mgiMsMB"
      },
      "source": [
        "#stop_epoch = train_model(model, epochs=2000, lr=0.7, saving_path=final_path)"
      ],
      "execution_count": null,
      "outputs": []
    },
    {
      "cell_type": "code",
      "metadata": {
        "id": "0c-Z9wT03opo"
      },
      "source": [
        "#stop_epoch = train_model(model, epochs=2000, lr=0.8, saving_path=final_path)"
      ],
      "execution_count": null,
      "outputs": []
    },
    {
      "cell_type": "code",
      "metadata": {
        "id": "mWubW7vs6e2r"
      },
      "source": [
        "#stop_epoch = train_model(model, epochs=2000, lr=0.9, saving_path=final_path)"
      ],
      "execution_count": null,
      "outputs": []
    }
  ]
}