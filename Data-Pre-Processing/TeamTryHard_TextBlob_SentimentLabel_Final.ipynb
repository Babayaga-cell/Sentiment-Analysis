{
 "cells": [
  {
   "cell_type": "code",
   "execution_count": 1,
   "metadata": {},
   "outputs": [],
   "source": [
    "import csv\n",
    "import pandas as pd"
   ]
  },
  {
   "cell_type": "code",
   "execution_count": 2,
   "metadata": {},
   "outputs": [
    {
     "data": {
      "text/html": [
       "<div>\n",
       "<style scoped>\n",
       "    .dataframe tbody tr th:only-of-type {\n",
       "        vertical-align: middle;\n",
       "    }\n",
       "\n",
       "    .dataframe tbody tr th {\n",
       "        vertical-align: top;\n",
       "    }\n",
       "\n",
       "    .dataframe thead th {\n",
       "        text-align: right;\n",
       "    }\n",
       "</style>\n",
       "<table border=\"1\" class=\"dataframe\">\n",
       "  <thead>\n",
       "    <tr style=\"text-align: right;\">\n",
       "      <th></th>\n",
       "      <th>Date</th>\n",
       "      <th>Tweets</th>\n",
       "      <th>Translated</th>\n",
       "      <th>Polarity</th>\n",
       "    </tr>\n",
       "  </thead>\n",
       "  <tbody>\n",
       "    <tr>\n",
       "      <th>0</th>\n",
       "      <td>Mar</td>\n",
       "      <td>Me to COVID-19:  pic.twitter.com/OLX9LTjTsW</td>\n",
       "      <td>me to covid</td>\n",
       "      <td>0.0</td>\n",
       "    </tr>\n",
       "    <tr>\n",
       "      <th>1</th>\n",
       "      <td>May</td>\n",
       "      <td>So many realizations during ECQ because of COV...</td>\n",
       "      <td>so many realizations during ecq because of cov...</td>\n",
       "      <td>0.3</td>\n",
       "    </tr>\n",
       "    <tr>\n",
       "      <th>2</th>\n",
       "      <td>Mar</td>\n",
       "      <td>Murag sure pko na magka covid kesa magbalik mi...</td>\n",
       "      <td>it's like a covid covid kesa back to cejay hah...</td>\n",
       "      <td>0.1</td>\n",
       "    </tr>\n",
       "    <tr>\n",
       "      <th>3</th>\n",
       "      <td>Apr</td>\n",
       "      <td>While we are all fighting against COVID-19, me...</td>\n",
       "      <td>while we are all fighting against covid meanwh...</td>\n",
       "      <td>0.0</td>\n",
       "    </tr>\n",
       "    <tr>\n",
       "      <th>4</th>\n",
       "      <td>Mar</td>\n",
       "      <td>Taong bahay, dahil sa covid-19😴</td>\n",
       "      <td>person house because of covid</td>\n",
       "      <td>0.0</td>\n",
       "    </tr>\n",
       "  </tbody>\n",
       "</table>\n",
       "</div>"
      ],
      "text/plain": [
       "  Date                                             Tweets  \\\n",
       "0  Mar        Me to COVID-19:  pic.twitter.com/OLX9LTjTsW   \n",
       "1  May  So many realizations during ECQ because of COV...   \n",
       "2  Mar  Murag sure pko na magka covid kesa magbalik mi...   \n",
       "3  Apr  While we are all fighting against COVID-19, me...   \n",
       "4  Mar                    Taong bahay, dahil sa covid-19😴   \n",
       "\n",
       "                                          Translated  Polarity  \n",
       "0                                        me to covid       0.0  \n",
       "1  so many realizations during ecq because of cov...       0.3  \n",
       "2  it's like a covid covid kesa back to cejay hah...       0.1  \n",
       "3  while we are all fighting against covid meanwh...       0.0  \n",
       "4                      person house because of covid       0.0  "
      ]
     },
     "execution_count": 2,
     "metadata": {},
     "output_type": "execute_result"
    }
   ],
   "source": [
    "Dataset= pd.read_csv('20kTranslated.csv')\n",
    "\n",
    "Dataset.head()"
   ]
  },
  {
   "cell_type": "code",
   "execution_count": 3,
   "metadata": {},
   "outputs": [
    {
     "data": {
      "text/html": [
       "<div>\n",
       "<style scoped>\n",
       "    .dataframe tbody tr th:only-of-type {\n",
       "        vertical-align: middle;\n",
       "    }\n",
       "\n",
       "    .dataframe tbody tr th {\n",
       "        vertical-align: top;\n",
       "    }\n",
       "\n",
       "    .dataframe thead th {\n",
       "        text-align: right;\n",
       "    }\n",
       "</style>\n",
       "<table border=\"1\" class=\"dataframe\">\n",
       "  <thead>\n",
       "    <tr style=\"text-align: right;\">\n",
       "      <th></th>\n",
       "      <th>Date</th>\n",
       "      <th>Tweets</th>\n",
       "      <th>Translated</th>\n",
       "      <th>Polarity</th>\n",
       "      <th>Sentiment_Type</th>\n",
       "    </tr>\n",
       "  </thead>\n",
       "  <tbody>\n",
       "    <tr>\n",
       "      <th>0</th>\n",
       "      <td>Mar</td>\n",
       "      <td>Me to COVID-19:  pic.twitter.com/OLX9LTjTsW</td>\n",
       "      <td>me to covid</td>\n",
       "      <td>0.0</td>\n",
       "      <td>Neutral</td>\n",
       "    </tr>\n",
       "    <tr>\n",
       "      <th>1</th>\n",
       "      <td>May</td>\n",
       "      <td>So many realizations during ECQ because of COV...</td>\n",
       "      <td>so many realizations during ecq because of cov...</td>\n",
       "      <td>0.3</td>\n",
       "      <td>Positive</td>\n",
       "    </tr>\n",
       "    <tr>\n",
       "      <th>2</th>\n",
       "      <td>Mar</td>\n",
       "      <td>Murag sure pko na magka covid kesa magbalik mi...</td>\n",
       "      <td>it's like a covid covid kesa back to cejay hah...</td>\n",
       "      <td>0.1</td>\n",
       "      <td>Positive</td>\n",
       "    </tr>\n",
       "    <tr>\n",
       "      <th>3</th>\n",
       "      <td>Apr</td>\n",
       "      <td>While we are all fighting against COVID-19, me...</td>\n",
       "      <td>while we are all fighting against covid meanwh...</td>\n",
       "      <td>0.0</td>\n",
       "      <td>Neutral</td>\n",
       "    </tr>\n",
       "    <tr>\n",
       "      <th>4</th>\n",
       "      <td>Mar</td>\n",
       "      <td>Taong bahay, dahil sa covid-19😴</td>\n",
       "      <td>person house because of covid</td>\n",
       "      <td>0.0</td>\n",
       "      <td>Neutral</td>\n",
       "    </tr>\n",
       "  </tbody>\n",
       "</table>\n",
       "</div>"
      ],
      "text/plain": [
       "  Date                                             Tweets  \\\n",
       "0  Mar        Me to COVID-19:  pic.twitter.com/OLX9LTjTsW   \n",
       "1  May  So many realizations during ECQ because of COV...   \n",
       "2  Mar  Murag sure pko na magka covid kesa magbalik mi...   \n",
       "3  Apr  While we are all fighting against COVID-19, me...   \n",
       "4  Mar                    Taong bahay, dahil sa covid-19😴   \n",
       "\n",
       "                                          Translated  Polarity Sentiment_Type  \n",
       "0                                        me to covid       0.0        Neutral  \n",
       "1  so many realizations during ecq because of cov...       0.3       Positive  \n",
       "2  it's like a covid covid kesa back to cejay hah...       0.1       Positive  \n",
       "3  while we are all fighting against covid meanwh...       0.0        Neutral  \n",
       "4                      person house because of covid       0.0        Neutral  "
      ]
     },
     "execution_count": 3,
     "metadata": {},
     "output_type": "execute_result"
    }
   ],
   "source": [
    "Dataset['Sentiment_Type']=''\n",
    "Dataset.loc[Dataset.Polarity>0,'Sentiment_Type']='Positive'\n",
    "Dataset.loc[Dataset.Polarity==0,'Sentiment_Type']='Neutral'\n",
    "Dataset.loc[Dataset.Polarity<0,'Sentiment_Type']='Negative'\n",
    "\n",
    "Dataset.head()"
   ]
  },
  {
   "cell_type": "code",
   "execution_count": 4,
   "metadata": {},
   "outputs": [],
   "source": [
    "Dataset.to_csv('20kLabeled.csv',index=False, encoding='utf-8-sig')"
   ]
  },
  {
   "cell_type": "code",
   "execution_count": null,
   "metadata": {},
   "outputs": [],
   "source": []
  }
 ],
 "metadata": {
  "kernelspec": {
   "display_name": "Python 3",
   "language": "python",
   "name": "python3"
  },
  "language_info": {
   "codemirror_mode": {
    "name": "ipython",
    "version": 3
   },
   "file_extension": ".py",
   "mimetype": "text/x-python",
   "name": "python",
   "nbconvert_exporter": "python",
   "pygments_lexer": "ipython3",
   "version": "3.7.6"
  }
 },
 "nbformat": 4,
 "nbformat_minor": 4
}
